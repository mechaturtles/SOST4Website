{
  "nbformat": 4,
  "nbformat_minor": 0,
  "metadata": {
    "colab": {
      "name": "Functions without Integration",
      "provenance": [],
      "authorship_tag": "ABX9TyPHy3lEpBBkEZoEbEyNZykD",
      "include_colab_link": true
    },
    "kernelspec": {
      "name": "python3",
      "display_name": "Python 3"
    }
  },
  "cells": [
    {
      "cell_type": "markdown",
      "metadata": {
        "id": "view-in-github",
        "colab_type": "text"
      },
      "source": [
        "<a href=\"https://colab.research.google.com/github/mechaturtles/SOST4Website/blob/master/Functions_without_Integration.ipynb\" target=\"_parent\"><img src=\"https://colab.research.google.com/assets/colab-badge.svg\" alt=\"Open In Colab\"/></a>"
      ]
    },
    {
      "cell_type": "markdown",
      "metadata": {
        "id": "4R3uqEoF-ank",
        "colab_type": "text"
      },
      "source": [
        "Estimated Glucose Values (egvs) dictionary - used for Functions 1 & 2. Deliverd from the Dexcom G6 glucose monitor\n",
        "\n",
        "    Keys:\n",
        "      time = [\"hours(24hr)minutes(base 100)\", ...]\n",
        "      realtimeValue1 = [egvs data as floats]\n",
        "      trend1 = [egvs trendrate data as floats]\n",
        "\n",
        "      Events dictionary list - t_(time), there is an event for each time point delivered (if no event occurs then the event is None)\n",
        "        Event types are stored in first position of array (carbs, Exercise, insulin, None)\n",
        "          [Carbs, grams]\n",
        "          [Exercise, type (light, medium, hard), hours (float)]\n",
        "          [insulin, type (fastActing, longActing), units (float)]"
      ]
    },
    {
      "cell_type": "code",
      "metadata": {
        "id": "F-k9TG6z-aWx",
        "colab_type": "code",
        "colab": {}
      },
      "source": [
        "egvs = dict(\n",
        "    #Hour (24 hr), minute (base 100), strings\n",
        "    time = [ \"1600\", \"1650\", \"1700\", \"1750\", \"1800\", \"1850\", \"1900\", \"1950\", \"2000\", \"2050\"],\n",
        "    #Estimated Glucose Value data, test case #1 \n",
        "    realtimeValue1 = [130.0, 120.0, 110.0, 90.0, 80.0, 70.0, 60.0, 50.0, 40.0, 30.0],\n",
        "    #an 'event' is stored at each time, if no event occurs then the value is null. Event types are carbs, insulin, and Exercise\n",
        "    Events = dict(\n",
        "          t_1600 = [\"carbs\", 35],\n",
        "          t_1650 = [\"Exercise\", \"light\", 2.0],\n",
        "          t_1700 = [\"insulin\", \"fastActing\", 2.2],\n",
        "          t_1750 = [None],\n",
        "          t_1800 = [\"Exercise\", \"medium\", 1.0],\n",
        "          t_1850 = [\"insulin\", \"fastActing\", 1.8],\n",
        "          t_1900 = [\"Exercise\", \"Hard\", 0.5],\n",
        "          t_1950 = [\"insulin\", \"longActing\", 17],\n",
        "          t_2000 = [\"carbs\", 50],\n",
        "          t_2050 = [\"Exercise\", \"light\", 0.5], \n",
        "        ),\n",
        "    #trend is the rate at which EGV is changing at any one data point\n",
        "    trend = dict(\n",
        "        flat1 = [ -1.0, -1.0, -1.0, -1.0, -1.0, -1.0, -1.0, -1.0, -1.0, -1.0 ],\n",
        "    ))"
      ],
      "execution_count": 2,
      "outputs": []
    },
    {
      "cell_type": "markdown",
      "metadata": {
        "id": "h_bl4DQn-Zg-",
        "colab_type": "text"
      },
      "source": [
        "DangerZone: Alerts time spend in a hyper/hypo glycemic state.\n",
        "\n",
        "Future plan: instead of alerting (as if reporting live) will be changed to store the number of instances in hypo/hyper state, the average EGV during that state, and the estimated amount of time in the state at the end of a \"data reporting period\""
      ]
    },
    {
      "cell_type": "code",
      "metadata": {
        "id": "DXp_2LE098RP",
        "colab_type": "code",
        "colab": {}
      },
      "source": [
        "def DangerZones(TestCase, Benchmark):\n",
        "    TC = int(TestCase, 10)\n",
        "    storeHigh = [0] * 5\n",
        "    storeLow = [0] * 5\n",
        "    for i in range(len( egvs[\"realtimeValue\" + TestCase] ) ): #iterates for total number egvs datapoints\n",
        "        null = 1 \n",
        "        Value = egvs[\"realtimeValue\" + TestCase][i]\n",
        "        trend = egvs[\"trend\"][\"flat\" + TestCase][i]\n",
        "        if  trend > 0.0: #Where is the egvs going\n",
        "          Direction = \"Hyperglycemia\"\n",
        "        elif trend < 0.0:\n",
        "          Direction = \"Hypoglycemia\"\n",
        "\n",
        "        if (Value >= 130) or (Value <= 70): #hyper/hypo glycemic state\n",
        "          null = 0 \n",
        "        \n",
        "        if null == 0: #Records the number of instances that a hypo/hyper glycemic state is entered\n",
        "          if Value > 130:\n",
        "             storeHigh[TC] = storeHigh[TC] + 1\n",
        "          elif Value < 70:\n",
        "            storeLow[TC] = storeLow[TC] + 1\n",
        "            \n",
        "          if PatientBenchmark <= (storeLow[TC] or storeHigh[TC]): #alerts if over benchmark\n",
        "            print(\"A L E R T - Dangerous trend:\", Direction, \",\", Value, \"\\n\")\n",
        "\n",
        "        null = 1\n",
        "        Direction = None\n",
        "\n",
        "    return\n",
        "\n",
        "TestCase = \"1\" #input(\"Please input test case (# 1-4):\")\n",
        "PatientBenchmark = 3 #int(input(\"Please enter the patient's benchmark for alerts:\"))\n",
        "\n",
        "DangerZones(TestCase, PatientBenchmark)"
      ],
      "execution_count": null,
      "outputs": []
    },
    {
      "cell_type": "markdown",
      "metadata": {
        "id": "UlTDVC8V_jmc",
        "colab_type": "text"
      },
      "source": [
        "Function for observing the number of instances that carbs are consumed and the sum that is consumed in the study period"
      ]
    },
    {
      "cell_type": "code",
      "metadata": {
        "id": "zIwAaBqX_j88",
        "colab_type": "code",
        "colab": {
          "base_uri": "https://localhost:8080/",
          "height": 34
        },
        "outputId": "b1096738-2bd8-445a-8a3d-86e9deb896d5"
      },
      "source": [
        "def CarbReport(): #uses egvs dictionary to report the sum of Carbs administered in the study period.\n",
        "  CarbSum = 0.0\n",
        "  for i in egvs[\"time\"]:       \n",
        "      if egvs[\"Events\"][\"t_\" + i][0] == \"carbs\":\n",
        "        CarbSum = CarbSum + egvs[\"Events\"][\"t_\" + i][1]\n",
        "\n",
        "  Result = time = \"From %s:%02.0f to %s:%02.0f, %02.0f g of carbohydrates were consumed.\" % (egvs[\"time\"][0][:2], (int(egvs[\"time\"][0][2:4], 10) * 60 / 100), egvs[\"time\"][-1][:2], int(egvs[\"time\"][-1][2:4], 10) * 60 / 100, CarbSum)\n",
        "  return Result\n",
        "        \n",
        "Result_CarbReport = CarbReport()"
      ],
      "execution_count": 10,
      "outputs": [
        {
          "output_type": "stream",
          "text": [
            "From 16:00 to 20:30, 85 g of carbohydrates were consumed.\n"
          ],
          "name": "stdout"
        }
      ]
    }
  ]
}
