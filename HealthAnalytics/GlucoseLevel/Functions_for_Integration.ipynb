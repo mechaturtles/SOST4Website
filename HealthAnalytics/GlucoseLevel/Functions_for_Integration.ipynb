{ 
  "nbformat": 4,
  "nbformat_minor": 0,
  "metadata": {
    "colab": {
      "name": "Functions for Integration",
      "provenance": [],
      "authorship_tag": "ABX9TyOA+UecpIxrEsJEybQdkX/D",
      "include_colab_link": true
    },
    "kernelspec": {
      "name": "python3",
      "display_name": "Python 3"
    }
  },
  "cells": [
    {
      "cell_type": "markdown",
      "metadata": {
        "id": "view-in-github",
        "colab_type": "text"
      },
      "source": [
        "<a href=\"https://colab.research.google.com/github/mechaturtles/SOST4Website/blob/master/Functions_for_Integration.ipynb\" target=\"_parent\"><img src=\"https://colab.research.google.com/assets/colab-badge.svg\" alt=\"Open In Colab\"/></a>"
      ]
    },
    {
      "cell_type": "markdown",
      "metadata": {
        "id": "D7WnO5lNjmNI",
        "colab_type": "text"
      },
      "source": [
        "Created By Forrest Dipert
        "Estimated Glucose Values (egvs) dictionary - used for Functions 1 & 2. Deliverd from the Dexcom G6 glucose monitor\n",
        "\n",
        "    Keys:\n",
        "      time = [\"hours(24hr)minutes(base 100)\", ...]\n",
        "      realtimeValue1 = [egvs data as floats]\n",
        "      trend 1 = [egvs trendrate data as floats]\n",
        "\n",
        "      Events dictionary list - t_(time), there is an event for each time point delivered (if no event occurs then the event is None)\n",
        "        Event types are stored in first position of array (carbs, Exercise, insulin, None)\n",
        "          [Carbs, grams]\n",
        "          [Exercise, type (light, medium, hard), hours (float)]\n",
        "          [insulin, type (fastActing, longActing), units (float)]"
      ]
    },
    {
      "cell_type": "code",
      "metadata": {
        "id": "g666ElT6jb-5",
        "colab_type": "code",
        "colab": {}
      },
      "source": [
        "egvs = dict(\n",
        "    #Hour (24 hr), minute (base 100), strings\n",
        "    time = [ \"1600\", \"1650\", \"1700\", \"1750\", \"1800\", \"1850\", \"1900\", \"1950\", \"2000\", \"2050\"],\n",
        "    #Estimated Glucose Value data, test case #1 \n",
        "    realtimeValue1 = [130.0, 120.0, 110.0, 90.0, 80.0, 70.0, 60.0, 50.0, 40.0, 30.0],\n",
        "    #an 'event' is stored at each time, if no event occurs then the value is null. Event types are carbs, insulin, and Exercise\n",
        "    trend = dict(\n",
        "        flat1 = [ -1.0, -1.0, -1.0, -1.0, -1.0, -1.0, -1.0, -1.0, -1.0, -1.0 ],\n",
        "    Events = dict(\n",
        "          t_1600 = [\"carbs\", 35],\n",
        "          t_1650 = [\"Exercise\", \"light\", 2.0],\n",
        "          t_1700 = [\"insulin\", \"fastActing\", 2.2],\n",
        "          t_1750 = [None],\n",
        "          t_1800 = [\"Exercise\", \"medium\", 1.0],\n",
        "          t_1850 = [\"insulin\", \"fastActing\", 1.8],\n",
        "          t_1900 = [\"Exercise\", \"Hard\", 0.5],\n",
        "          t_1950 = [\"insulin\", \"longActing\", 17],\n",
        "          t_2000 = [\"carbs\", 50],\n",
        "          t_2050 = [\"Exercise\", \"light\", 0.5], \n",
        "        ),\n",
        "    #trend is the rate at which EGV is changing at any one data point\n",
        "    ))"
      ],
      "execution_count": null,
      "outputs": []
    },
    {
      "cell_type": "markdown",
      "metadata": {
        "id": "xiLRZGVHkNSH",
        "colab_type": "text"
      },
      "source": [
        "Function 1: \n",
        "\n",
        "Exercise Report() = average and standard deviation of egvs data after exercise as examined over the study period, and sorted by type of exercise."
      ]
    },
    {
      "cell_type": "code",
      "metadata": {
        "id": "hgxHUiE0kNmQ",
        "colab_type": "code",
        "colab": {}
      },
      "source": [
        "def EndStudyPoint(k, q): #Computes the position of the end point where we recording the egvs\n",
        "  lst = [None] * len(egvs[\"time\"])\n",
        "  i=0\n",
        "  multiplier = 2\n",
        "  while i <= (len(egvs[\"time\"]) - 1): #turns the string list of time into\n",
        "    lst[i] = int(egvs[\"time\"][i])\n",
        "    i = i + 1\n",
        "  start = lst[k]\n",
        "  end = start + (multiplier * 100 * q)\n",
        "  return min(range(len(lst)), key = lambda i: abs(lst[i] - end))\n",
        "\n",
        "\n",
        "def average(k, q, TestCase): #Computes the average evgs for a period after exercise\n",
        "    end = EndStudyPoint(k,q)\n",
        "    total = 0\n",
        "    start = k\n",
        "    while k <= end: \n",
        "        total = total + egvs[\"realtimeValue\" + TestCase][k]\n",
        "        k = k + 1\n",
        "    avg = total / (end - start + 1)\n",
        "    return avg\n",
        "\n",
        "def stdev(k, q, TestCase): #Computes the stdev evgs for a period after exercise\n",
        "    end = EndStudyPoint(k,q)\n",
        "    total = 0\n",
        "    total2 = 0\n",
        "    start = k\n",
        "    g = k\n",
        "    while k <= end: \n",
        "        total = total + egvs[\"realtimeValue\" + TestCase][k]\n",
        "        k = k + 1\n",
        "    avg = total / (end - start + 1)\n",
        "    while g <= end:\n",
        "      total2 = total2 + ((egvs[\"realtimeValue\" + TestCase][g] - avg) ** 2 )\n",
        "      g = g + 1\n",
        "    S2 = total2 / (end - start + 1)\n",
        "    S = S2 ** (1/2)\n",
        "    \n",
        "    return S\n",
        "    \n",
        "\n",
        "def ExerciseReport():\n",
        "    TestCase = \"1\"\n",
        "    light_stat = [0.0, 0.0]\n",
        "    medium_stat = [0.0, 0.0]\n",
        "    hard_stat = [0.0, 0.0]\n",
        "    j = 0\n",
        "    for i in egvs[\"time\"]:  \n",
        "      if egvs[\"Events\"][\"t_\" + i][0] == \"Exercise\":\n",
        "          data = egvs[\"Events\"][\"t_\" + i]\n",
        "          if data[1] == \"light\": #Exercise event is light exercise\n",
        "            if light_stat[0] == 0:\n",
        "              light_stat[0] = average(j, data[2], TestCase)\n",
        "            else:\n",
        "              light_stat[0] = (light_stat[0] + average(j, data[2], TestCase)) / 2.0\n",
        "\n",
        "            if light_stat[1] == 0:\n",
        "              light_stat[1] = stdev(j, data[2], TestCase)\n",
        "            else:\n",
        "              light_stat[1] = (light_stat[1] + stdev(j, data[2], TestCase)) / 2.0\n",
        "\n",
        "          elif data[1] ==\"medium\": #Exercise event is medium exercise\n",
        "            if medium_stat[0] == 0:\n",
        "              medium_stat[0] = average(j, data[2], TestCase)\n",
        "            else:\n",
        "              medium_stat[0] = (medium_stat[0] + average(j, data[2], TestCase)) / 2.0\n",
        "            \n",
        "            if medium_stat[1] == 0:\n",
        "              medium_stat[1] = stdev(j, data[2], TestCase)\n",
        "            else:\n",
        "              medium_stat[1] = (medium_stat[1] + stdev(j, data[2], TestCase)) / 2.0\n",
        "          else: #Exercise event is hard exercise\n",
        "            if hard_stat[0] == 0:\n",
        "              hard_stat[0] = average(j, data[2], TestCase)\n",
        "            else:\n",
        "              hard_stat[0] = (hard_stat[0] + average(j, data[2], TestCase)) / 2.0\n",
        "\n",
        "              if hard_stat[1] == 0:\n",
        "                hard_stat[1] = stdev(j, data[2], TestCase)\n",
        "              else:\n",
        "                hard_stat[1] = (hard_stat[1] + stdev(j, data[2], TestCase)) / 2.0\n",
        "      \n",
        "      j = j + 1\n",
        "\n",
        "      \n",
        "    Output = \"The average and standard deviation of the Estimated Glucose Value after exercise is as follows: \\n\"\n",
        "    Output_light = \"\\t light exercise:  %.1f \\u00B1 %.2f mg/dL \\n\" % (light_stat[0], light_stat[1])   \n",
        "    Output_medium = \"\\t medium exercise: %.1f \\u00B1 %.2f mg/dL \\n\" % (medium_stat[0], medium_stat[1])\n",
        "    Output_hard = \"\\t hard exercise:   %.1f \\u00B1 %.2f mg/dL \\n\" % (hard_stat[0], hard_stat[1])\n",
        "    Output = Output + Output_light + Output_medium + Output_hard\n",
        "    return Output\n",
        "          \n",
        "\n",
        "Result_ExerciseReport = ExerciseReport()"
      ],
      "execution_count": null,
      "outputs": []
    },
    {
      "cell_type": "markdown",
      "metadata": {
        "id": "zxN4X8kUlSs_",
        "colab_type": "text"
      },
      "source": [
        "Function 2:\n",
        "\n",
        "Insulin Report() = reports the units of insulin administered over a given time frame"
      ]
    },
    {
      "cell_type": "code",
      "metadata": {
        "id": "nc034bz7lTEa",
        "colab_type": "code",
        "colab": {}
      },
      "source": [
        "def InsulinReport(): #uses egvs dictionary to report the sum of insulin administered in the study period.\n",
        "  FastSum = 0.0\n",
        "  LongSum = 0.0\n",
        "  for i in egvs[\"time\"]:\n",
        "          \n",
        "      if egvs[\"Events\"][\"t_\" + i][0] == \"insulin\":\n",
        "        typ  = egvs[\"Events\"][\"t_\" + i][1]\n",
        "        if typ == \"fastActing\":\n",
        "          FastSum = FastSum + egvs[\"Events\"][\"t_\" + i][2]\n",
        "        elif typ == \"longActing\":\n",
        "          LongSum = LongSum + egvs[\"Events\"][\"t_\" + i][2]\n",
        "    \n",
        "  time = \"Over the following time period %s:%02.0f to %s:%02.0f the following amount of insulin was administered\" % (egvs[\"time\"][0][:2], (int(egvs[\"time\"][0][2:4], 10) * 60 / 100), egvs[\"time\"][-1][:2], int(egvs[\"time\"][-1][2:4], 10) * 60 / 100)\n",
        "  result = \" \\n \\t fast-acting insulin: %.1f units \\n \\t long-acting insulin: %.1f units\" % (FastSum, LongSum)\n",
        "  return (time + result)\n",
        "  \n",
        "Result_InsulinReport = InsulinReport()\n"
      ],
      "execution_count": null,
      "outputs": []
    }
  ]
}
